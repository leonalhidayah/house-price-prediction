{
 "cells": [
  {
   "cell_type": "code",
   "execution_count": 3,
   "metadata": {
    "id": "QKeo8r_6ov1-"
   },
   "outputs": [],
   "source": [
    "import os\n",
    "import sys\n",
    "import warnings\n",
    "\n",
    "import pandas as pd\n",
    "import seaborn as sns\n",
    "\n",
    "# Menambahkan direktori src ke path\n",
    "sys.path.append(os.path.abspath(os.path.join(\"..\", \"src\")))\n",
    "\n",
    "warnings.filterwarnings(\"ignore\")\n",
    "\n",
    "# dataframe setting\n",
    "pd.set_option(\"display.max_columns\", None)\n",
    "pd.options.display.float_format = \"{:,.2f}\".format\n",
    "\n",
    "# visualization setting\n",
    "sns.set()\n",
    "title_size = 18\n",
    "y_title = 1.01\n",
    "title_weight = \"bold\"\n",
    "\n",
    "# random state\n",
    "RANDOM_STATE = 123"
   ]
  },
  {
   "cell_type": "markdown",
   "metadata": {
    "id": "o9Xyh8Fqyy6H"
   },
   "source": [
    "# **House Price Prediction Data Science Project**"
   ]
  },
  {
   "cell_type": "markdown",
   "metadata": {
    "id": "pFSotRfOov3E"
   },
   "source": [
    "# 3. Data Preparation"
   ]
  },
  {
   "cell_type": "code",
   "execution_count": 4,
   "metadata": {},
   "outputs": [],
   "source": [
    "train_df = pd.read_csv(\"../data/raw/train_data.csv\")\n",
    "test_df = pd.read_csv(\"../data/raw/public_test_data.csv\")"
   ]
  },
  {
   "cell_type": "code",
   "execution_count": 6,
   "metadata": {},
   "outputs": [],
   "source": [
    "from data_processing import (\n",
    "    data_integration,\n",
    "    feature_engineering,\n",
    "    feature_extrction,\n",
    "    log_transform,\n",
    "    mean_encoded,\n",
    "    outliers_remove,\n",
    "    reformatted,\n",
    "    save_data,\n",
    "    select_data,\n",
    ")\n"
   ]
  },
  {
   "cell_type": "markdown",
   "metadata": {
    "id": "Fcf4yy4Kov3F"
   },
   "source": [
    "## 3.1. Select Data"
   ]
  },
  {
   "cell_type": "code",
   "execution_count": 7,
   "metadata": {
    "id": "Nnh1QOI7ov3F"
   },
   "outputs": [],
   "source": [
    "train_selected = select_data(train_df)\n",
    "test_selected = select_data(test_df)"
   ]
  },
  {
   "cell_type": "code",
   "execution_count": 8,
   "metadata": {
    "colab": {
     "base_uri": "https://localhost:8080/",
     "height": 521
    },
    "id": "Z15TbvdCov3F",
    "outputId": "55eb8687-2b4e-4163-c698-80d68a5a2b0f"
   },
   "outputs": [
    {
     "data": {
      "text/html": [
       "<div>\n",
       "<style scoped>\n",
       "    .dataframe tbody tr th:only-of-type {\n",
       "        vertical-align: middle;\n",
       "    }\n",
       "\n",
       "    .dataframe tbody tr th {\n",
       "        vertical-align: top;\n",
       "    }\n",
       "\n",
       "    .dataframe thead th {\n",
       "        text-align: right;\n",
       "    }\n",
       "</style>\n",
       "<table border=\"1\" class=\"dataframe\">\n",
       "  <thead>\n",
       "    <tr style=\"text-align: right;\">\n",
       "      <th></th>\n",
       "      <th>bedrooms</th>\n",
       "      <th>bathrooms</th>\n",
       "      <th>sqft_living</th>\n",
       "      <th>sqft_lot</th>\n",
       "      <th>floors</th>\n",
       "      <th>waterfront</th>\n",
       "      <th>view</th>\n",
       "      <th>condition</th>\n",
       "      <th>sqft_above</th>\n",
       "      <th>sqft_basement</th>\n",
       "      <th>yr_built</th>\n",
       "      <th>yr_renovated</th>\n",
       "      <th>street</th>\n",
       "      <th>city</th>\n",
       "      <th>statezip</th>\n",
       "      <th>price</th>\n",
       "    </tr>\n",
       "  </thead>\n",
       "  <tbody>\n",
       "    <tr>\n",
       "      <th>0</th>\n",
       "      <td>4</td>\n",
       "      <td>2.50</td>\n",
       "      <td>3080</td>\n",
       "      <td>35430</td>\n",
       "      <td>2.00</td>\n",
       "      <td>0</td>\n",
       "      <td>0</td>\n",
       "      <td>3</td>\n",
       "      <td>3080</td>\n",
       "      <td>0</td>\n",
       "      <td>1997</td>\n",
       "      <td>0</td>\n",
       "      <td>9788-16090 NE Quail Creek Dr</td>\n",
       "      <td>Redmond</td>\n",
       "      <td>WA 98053</td>\n",
       "      <td>635,000.00</td>\n",
       "    </tr>\n",
       "    <tr>\n",
       "      <th>1</th>\n",
       "      <td>3</td>\n",
       "      <td>2.50</td>\n",
       "      <td>2570</td>\n",
       "      <td>3600</td>\n",
       "      <td>2.50</td>\n",
       "      <td>0</td>\n",
       "      <td>0</td>\n",
       "      <td>3</td>\n",
       "      <td>2570</td>\n",
       "      <td>0</td>\n",
       "      <td>2007</td>\n",
       "      <td>0</td>\n",
       "      <td>1474-1476 29th Pl NE</td>\n",
       "      <td>Issaquah</td>\n",
       "      <td>WA 98029</td>\n",
       "      <td>680,000.00</td>\n",
       "    </tr>\n",
       "    <tr>\n",
       "      <th>2</th>\n",
       "      <td>3</td>\n",
       "      <td>1.75</td>\n",
       "      <td>1400</td>\n",
       "      <td>6956</td>\n",
       "      <td>1.00</td>\n",
       "      <td>0</td>\n",
       "      <td>0</td>\n",
       "      <td>4</td>\n",
       "      <td>1400</td>\n",
       "      <td>0</td>\n",
       "      <td>1957</td>\n",
       "      <td>2001</td>\n",
       "      <td>10642 SE 200th St</td>\n",
       "      <td>Kent</td>\n",
       "      <td>WA 98031</td>\n",
       "      <td>230,000.00</td>\n",
       "    </tr>\n",
       "    <tr>\n",
       "      <th>3</th>\n",
       "      <td>3</td>\n",
       "      <td>2.25</td>\n",
       "      <td>1480</td>\n",
       "      <td>5400</td>\n",
       "      <td>2.00</td>\n",
       "      <td>0</td>\n",
       "      <td>0</td>\n",
       "      <td>4</td>\n",
       "      <td>1480</td>\n",
       "      <td>0</td>\n",
       "      <td>1914</td>\n",
       "      <td>1945</td>\n",
       "      <td>816 Martin Luther King Jr Way</td>\n",
       "      <td>Seattle</td>\n",
       "      <td>WA 98122</td>\n",
       "      <td>600,000.00</td>\n",
       "    </tr>\n",
       "    <tr>\n",
       "      <th>4</th>\n",
       "      <td>4</td>\n",
       "      <td>3.50</td>\n",
       "      <td>4390</td>\n",
       "      <td>11600</td>\n",
       "      <td>2.00</td>\n",
       "      <td>0</td>\n",
       "      <td>3</td>\n",
       "      <td>3</td>\n",
       "      <td>3060</td>\n",
       "      <td>1330</td>\n",
       "      <td>1990</td>\n",
       "      <td>2009</td>\n",
       "      <td>2758 68th Ave SE</td>\n",
       "      <td>Mercer Island</td>\n",
       "      <td>WA 98040</td>\n",
       "      <td>1,610,000.00</td>\n",
       "    </tr>\n",
       "  </tbody>\n",
       "</table>\n",
       "</div>"
      ],
      "text/plain": [
       "   bedrooms  bathrooms  sqft_living  sqft_lot  floors  waterfront  view  \\\n",
       "0         4       2.50         3080     35430    2.00           0     0   \n",
       "1         3       2.50         2570      3600    2.50           0     0   \n",
       "2         3       1.75         1400      6956    1.00           0     0   \n",
       "3         3       2.25         1480      5400    2.00           0     0   \n",
       "4         4       3.50         4390     11600    2.00           0     3   \n",
       "\n",
       "   condition  sqft_above  sqft_basement  yr_built  yr_renovated  \\\n",
       "0          3        3080              0      1997             0   \n",
       "1          3        2570              0      2007             0   \n",
       "2          4        1400              0      1957          2001   \n",
       "3          4        1480              0      1914          1945   \n",
       "4          3        3060           1330      1990          2009   \n",
       "\n",
       "                          street           city  statezip        price  \n",
       "0   9788-16090 NE Quail Creek Dr        Redmond  WA 98053   635,000.00  \n",
       "1           1474-1476 29th Pl NE       Issaquah  WA 98029   680,000.00  \n",
       "2              10642 SE 200th St           Kent  WA 98031   230,000.00  \n",
       "3  816 Martin Luther King Jr Way        Seattle  WA 98122   600,000.00  \n",
       "4               2758 68th Ave SE  Mercer Island  WA 98040 1,610,000.00  "
      ]
     },
     "execution_count": 8,
     "metadata": {},
     "output_type": "execute_result"
    }
   ],
   "source": [
    "test_selected.head()"
   ]
  },
  {
   "cell_type": "markdown",
   "metadata": {
    "id": "KFDwTrGRov3F"
   },
   "source": [
    "## 3.2. Clean Data"
   ]
  },
  {
   "cell_type": "markdown",
   "metadata": {
    "id": "nickp2_ZvTEi"
   },
   "source": [
    "### 3.2.1. Outliers Handling"
   ]
  },
  {
   "cell_type": "code",
   "execution_count": 9,
   "metadata": {
    "id": "3d70JDwZvTEj"
   },
   "outputs": [],
   "source": [
    "train_selected = outliers_remove(train_selected)"
   ]
  },
  {
   "cell_type": "markdown",
   "metadata": {
    "id": "EPamvaNAov3G"
   },
   "source": [
    "## 3.3. Construct Data"
   ]
  },
  {
   "cell_type": "code",
   "execution_count": 10,
   "metadata": {
    "id": "ofAHsIzIvTEn"
   },
   "outputs": [],
   "source": [
    "train_cleaned = feature_engineering(train_selected)\n",
    "test_cleaned = feature_engineering(test_selected)"
   ]
  },
  {
   "cell_type": "code",
   "execution_count": 11,
   "metadata": {
    "colab": {
     "base_uri": "https://localhost:8080/",
     "height": 417
    },
    "id": "r9CGLGZeov3G",
    "outputId": "368f2aeb-45b0-42ad-b261-e5679f4fc127"
   },
   "outputs": [
    {
     "data": {
      "text/html": [
       "<div>\n",
       "<style scoped>\n",
       "    .dataframe tbody tr th:only-of-type {\n",
       "        vertical-align: middle;\n",
       "    }\n",
       "\n",
       "    .dataframe tbody tr th {\n",
       "        vertical-align: top;\n",
       "    }\n",
       "\n",
       "    .dataframe thead th {\n",
       "        text-align: right;\n",
       "    }\n",
       "</style>\n",
       "<table border=\"1\" class=\"dataframe\">\n",
       "  <thead>\n",
       "    <tr style=\"text-align: right;\">\n",
       "      <th></th>\n",
       "      <th>bedrooms</th>\n",
       "      <th>bathrooms</th>\n",
       "      <th>sqft_living</th>\n",
       "      <th>sqft_lot</th>\n",
       "      <th>floors</th>\n",
       "      <th>waterfront</th>\n",
       "      <th>view</th>\n",
       "      <th>condition</th>\n",
       "      <th>sqft_above</th>\n",
       "      <th>sqft_basement</th>\n",
       "      <th>yr_built</th>\n",
       "      <th>yr_renovated</th>\n",
       "      <th>street</th>\n",
       "      <th>city</th>\n",
       "      <th>statezip</th>\n",
       "      <th>price</th>\n",
       "      <th>basement</th>\n",
       "      <th>renovated</th>\n",
       "      <th>era_category</th>\n",
       "    </tr>\n",
       "  </thead>\n",
       "  <tbody>\n",
       "    <tr>\n",
       "      <th>0</th>\n",
       "      <td>3</td>\n",
       "      <td>1.00</td>\n",
       "      <td>1330</td>\n",
       "      <td>15678</td>\n",
       "      <td>1.00</td>\n",
       "      <td>0</td>\n",
       "      <td>0</td>\n",
       "      <td>3</td>\n",
       "      <td>900</td>\n",
       "      <td>430</td>\n",
       "      <td>1984</td>\n",
       "      <td>0</td>\n",
       "      <td>3009 229th Pl NE</td>\n",
       "      <td>Sammamish</td>\n",
       "      <td>WA 98074</td>\n",
       "      <td>405,000.00</td>\n",
       "      <td>1</td>\n",
       "      <td>0</td>\n",
       "      <td>Early Modern</td>\n",
       "    </tr>\n",
       "    <tr>\n",
       "      <th>1</th>\n",
       "      <td>4</td>\n",
       "      <td>2.50</td>\n",
       "      <td>2700</td>\n",
       "      <td>9320</td>\n",
       "      <td>2.00</td>\n",
       "      <td>0</td>\n",
       "      <td>0</td>\n",
       "      <td>4</td>\n",
       "      <td>2700</td>\n",
       "      <td>0</td>\n",
       "      <td>1994</td>\n",
       "      <td>0</td>\n",
       "      <td>1317 5th Ln</td>\n",
       "      <td>Kirkland</td>\n",
       "      <td>WA 98033</td>\n",
       "      <td>837,500.00</td>\n",
       "      <td>0</td>\n",
       "      <td>0</td>\n",
       "      <td>Early Modern</td>\n",
       "    </tr>\n",
       "    <tr>\n",
       "      <th>2</th>\n",
       "      <td>2</td>\n",
       "      <td>1.00</td>\n",
       "      <td>790</td>\n",
       "      <td>8424</td>\n",
       "      <td>1.00</td>\n",
       "      <td>0</td>\n",
       "      <td>0</td>\n",
       "      <td>4</td>\n",
       "      <td>790</td>\n",
       "      <td>0</td>\n",
       "      <td>1953</td>\n",
       "      <td>1983</td>\n",
       "      <td>556 N 167th St</td>\n",
       "      <td>Shoreline</td>\n",
       "      <td>WA 98133</td>\n",
       "      <td>268,500.00</td>\n",
       "      <td>0</td>\n",
       "      <td>1</td>\n",
       "      <td>Post-World War II</td>\n",
       "    </tr>\n",
       "    <tr>\n",
       "      <th>3</th>\n",
       "      <td>3</td>\n",
       "      <td>2.50</td>\n",
       "      <td>1800</td>\n",
       "      <td>2700</td>\n",
       "      <td>2.00</td>\n",
       "      <td>0</td>\n",
       "      <td>0</td>\n",
       "      <td>3</td>\n",
       "      <td>1800</td>\n",
       "      <td>0</td>\n",
       "      <td>2011</td>\n",
       "      <td>0</td>\n",
       "      <td>2803 SW Bataan St</td>\n",
       "      <td>Seattle</td>\n",
       "      <td>WA 98126</td>\n",
       "      <td>365,000.00</td>\n",
       "      <td>0</td>\n",
       "      <td>0</td>\n",
       "      <td>Modern</td>\n",
       "    </tr>\n",
       "    <tr>\n",
       "      <th>4</th>\n",
       "      <td>4</td>\n",
       "      <td>2.50</td>\n",
       "      <td>2340</td>\n",
       "      <td>11784</td>\n",
       "      <td>2.00</td>\n",
       "      <td>0</td>\n",
       "      <td>0</td>\n",
       "      <td>3</td>\n",
       "      <td>2340</td>\n",
       "      <td>0</td>\n",
       "      <td>1997</td>\n",
       "      <td>0</td>\n",
       "      <td>24200-24498 144th Ave SE</td>\n",
       "      <td>Kent</td>\n",
       "      <td>WA 98042</td>\n",
       "      <td>330,000.00</td>\n",
       "      <td>0</td>\n",
       "      <td>0</td>\n",
       "      <td>Early Modern</td>\n",
       "    </tr>\n",
       "  </tbody>\n",
       "</table>\n",
       "</div>"
      ],
      "text/plain": [
       "   bedrooms  bathrooms  sqft_living  sqft_lot  floors  waterfront  view  \\\n",
       "0         3       1.00         1330     15678    1.00           0     0   \n",
       "1         4       2.50         2700      9320    2.00           0     0   \n",
       "2         2       1.00          790      8424    1.00           0     0   \n",
       "3         3       2.50         1800      2700    2.00           0     0   \n",
       "4         4       2.50         2340     11784    2.00           0     0   \n",
       "\n",
       "   condition  sqft_above  sqft_basement  yr_built  yr_renovated  \\\n",
       "0          3         900            430      1984             0   \n",
       "1          4        2700              0      1994             0   \n",
       "2          4         790              0      1953          1983   \n",
       "3          3        1800              0      2011             0   \n",
       "4          3        2340              0      1997             0   \n",
       "\n",
       "                     street       city  statezip      price  basement  \\\n",
       "0          3009 229th Pl NE  Sammamish  WA 98074 405,000.00         1   \n",
       "1               1317 5th Ln   Kirkland  WA 98033 837,500.00         0   \n",
       "2            556 N 167th St  Shoreline  WA 98133 268,500.00         0   \n",
       "3         2803 SW Bataan St    Seattle  WA 98126 365,000.00         0   \n",
       "4  24200-24498 144th Ave SE       Kent  WA 98042 330,000.00         0   \n",
       "\n",
       "   renovated       era_category  \n",
       "0          0       Early Modern  \n",
       "1          0       Early Modern  \n",
       "2          1  Post-World War II  \n",
       "3          0             Modern  \n",
       "4          0       Early Modern  "
      ]
     },
     "execution_count": 11,
     "metadata": {},
     "output_type": "execute_result"
    }
   ],
   "source": [
    "train_cleaned.head()"
   ]
  },
  {
   "cell_type": "code",
   "execution_count": 12,
   "metadata": {
    "id": "Wyzqw_5rhCBR"
   },
   "outputs": [],
   "source": [
    "train_street_tfidf, test_street_tfidf = feature_extrction(\n",
    "    train_cleaned[\"street\"], test_cleaned[\"street\"]\n",
    ")"
   ]
  },
  {
   "cell_type": "markdown",
   "metadata": {
    "id": "9sUm4xg4ov3G"
   },
   "source": [
    "## 3.4. Integrate Data"
   ]
  },
  {
   "cell_type": "code",
   "execution_count": 13,
   "metadata": {},
   "outputs": [],
   "source": [
    "us_cities = pd.read_csv(\"../data/external/mapping city latitude longitude.csv\")"
   ]
  },
  {
   "cell_type": "code",
   "execution_count": 14,
   "metadata": {
    "id": "4nxHMtg1ov3H"
   },
   "outputs": [],
   "source": [
    "train_cleaned = data_integration(train_cleaned, us_cities)\n",
    "test_cleaned = data_integration(test_cleaned, us_cities)"
   ]
  },
  {
   "cell_type": "markdown",
   "metadata": {
    "id": "96cH13Kkov3H"
   },
   "source": [
    "## 3.5. Reformatted Data"
   ]
  },
  {
   "cell_type": "code",
   "execution_count": 15,
   "metadata": {
    "id": "3QCNIX4cov3H"
   },
   "outputs": [],
   "source": [
    "train_reformatted = reformatted(train_cleaned)\n",
    "test_reformatted = reformatted(test_cleaned)"
   ]
  },
  {
   "cell_type": "code",
   "execution_count": 16,
   "metadata": {
    "colab": {
     "base_uri": "https://localhost:8080/",
     "height": 417
    },
    "id": "CnHJHZt9ov3H",
    "outputId": "65e4c739-dd47-4e4e-9968-a063b9cf20d1"
   },
   "outputs": [
    {
     "data": {
      "text/html": [
       "<div>\n",
       "<style scoped>\n",
       "    .dataframe tbody tr th:only-of-type {\n",
       "        vertical-align: middle;\n",
       "    }\n",
       "\n",
       "    .dataframe tbody tr th {\n",
       "        vertical-align: top;\n",
       "    }\n",
       "\n",
       "    .dataframe thead th {\n",
       "        text-align: right;\n",
       "    }\n",
       "</style>\n",
       "<table border=\"1\" class=\"dataframe\">\n",
       "  <thead>\n",
       "    <tr style=\"text-align: right;\">\n",
       "      <th></th>\n",
       "      <th>bedrooms</th>\n",
       "      <th>bathrooms</th>\n",
       "      <th>sqft_living</th>\n",
       "      <th>sqft_lot</th>\n",
       "      <th>floors</th>\n",
       "      <th>waterfront</th>\n",
       "      <th>view</th>\n",
       "      <th>condition</th>\n",
       "      <th>sqft_above</th>\n",
       "      <th>sqft_basement</th>\n",
       "      <th>yr_built</th>\n",
       "      <th>yr_renovated</th>\n",
       "      <th>street</th>\n",
       "      <th>statezip</th>\n",
       "      <th>price</th>\n",
       "      <th>basement</th>\n",
       "      <th>renovated</th>\n",
       "      <th>era_category</th>\n",
       "      <th>lat</th>\n",
       "      <th>lng</th>\n",
       "    </tr>\n",
       "  </thead>\n",
       "  <tbody>\n",
       "    <tr>\n",
       "      <th>0</th>\n",
       "      <td>3</td>\n",
       "      <td>1.00</td>\n",
       "      <td>1330</td>\n",
       "      <td>15678</td>\n",
       "      <td>1.00</td>\n",
       "      <td>0</td>\n",
       "      <td>0</td>\n",
       "      <td>3</td>\n",
       "      <td>900</td>\n",
       "      <td>430</td>\n",
       "      <td>1984</td>\n",
       "      <td>0</td>\n",
       "      <td>3009 229th Pl NE</td>\n",
       "      <td>98074</td>\n",
       "      <td>405,000.00</td>\n",
       "      <td>1</td>\n",
       "      <td>0</td>\n",
       "      <td>Early Modern</td>\n",
       "      <td>47.60</td>\n",
       "      <td>-122.04</td>\n",
       "    </tr>\n",
       "    <tr>\n",
       "      <th>1</th>\n",
       "      <td>4</td>\n",
       "      <td>2.50</td>\n",
       "      <td>2700</td>\n",
       "      <td>9320</td>\n",
       "      <td>2.00</td>\n",
       "      <td>0</td>\n",
       "      <td>0</td>\n",
       "      <td>4</td>\n",
       "      <td>2700</td>\n",
       "      <td>0</td>\n",
       "      <td>1994</td>\n",
       "      <td>0</td>\n",
       "      <td>1317 5th Ln</td>\n",
       "      <td>98033</td>\n",
       "      <td>837,500.00</td>\n",
       "      <td>0</td>\n",
       "      <td>0</td>\n",
       "      <td>Early Modern</td>\n",
       "      <td>47.70</td>\n",
       "      <td>-122.21</td>\n",
       "    </tr>\n",
       "    <tr>\n",
       "      <th>2</th>\n",
       "      <td>2</td>\n",
       "      <td>1.00</td>\n",
       "      <td>790</td>\n",
       "      <td>8424</td>\n",
       "      <td>1.00</td>\n",
       "      <td>0</td>\n",
       "      <td>0</td>\n",
       "      <td>4</td>\n",
       "      <td>790</td>\n",
       "      <td>0</td>\n",
       "      <td>1953</td>\n",
       "      <td>1983</td>\n",
       "      <td>556 N 167th St</td>\n",
       "      <td>98133</td>\n",
       "      <td>268,500.00</td>\n",
       "      <td>0</td>\n",
       "      <td>1</td>\n",
       "      <td>Post-World War II</td>\n",
       "      <td>47.76</td>\n",
       "      <td>-122.34</td>\n",
       "    </tr>\n",
       "    <tr>\n",
       "      <th>3</th>\n",
       "      <td>3</td>\n",
       "      <td>2.50</td>\n",
       "      <td>1800</td>\n",
       "      <td>2700</td>\n",
       "      <td>2.00</td>\n",
       "      <td>0</td>\n",
       "      <td>0</td>\n",
       "      <td>3</td>\n",
       "      <td>1800</td>\n",
       "      <td>0</td>\n",
       "      <td>2011</td>\n",
       "      <td>0</td>\n",
       "      <td>2803 SW Bataan St</td>\n",
       "      <td>98126</td>\n",
       "      <td>365,000.00</td>\n",
       "      <td>0</td>\n",
       "      <td>0</td>\n",
       "      <td>Modern</td>\n",
       "      <td>47.62</td>\n",
       "      <td>-122.32</td>\n",
       "    </tr>\n",
       "    <tr>\n",
       "      <th>4</th>\n",
       "      <td>4</td>\n",
       "      <td>2.50</td>\n",
       "      <td>2340</td>\n",
       "      <td>11784</td>\n",
       "      <td>2.00</td>\n",
       "      <td>0</td>\n",
       "      <td>0</td>\n",
       "      <td>3</td>\n",
       "      <td>2340</td>\n",
       "      <td>0</td>\n",
       "      <td>1997</td>\n",
       "      <td>0</td>\n",
       "      <td>24200-24498 144th Ave SE</td>\n",
       "      <td>98042</td>\n",
       "      <td>330,000.00</td>\n",
       "      <td>0</td>\n",
       "      <td>0</td>\n",
       "      <td>Early Modern</td>\n",
       "      <td>47.39</td>\n",
       "      <td>-122.21</td>\n",
       "    </tr>\n",
       "  </tbody>\n",
       "</table>\n",
       "</div>"
      ],
      "text/plain": [
       "   bedrooms  bathrooms  sqft_living  sqft_lot  floors  waterfront  view  \\\n",
       "0         3       1.00         1330     15678    1.00           0     0   \n",
       "1         4       2.50         2700      9320    2.00           0     0   \n",
       "2         2       1.00          790      8424    1.00           0     0   \n",
       "3         3       2.50         1800      2700    2.00           0     0   \n",
       "4         4       2.50         2340     11784    2.00           0     0   \n",
       "\n",
       "   condition  sqft_above  sqft_basement  yr_built  yr_renovated  \\\n",
       "0          3         900            430      1984             0   \n",
       "1          4        2700              0      1994             0   \n",
       "2          4         790              0      1953          1983   \n",
       "3          3        1800              0      2011             0   \n",
       "4          3        2340              0      1997             0   \n",
       "\n",
       "                     street  statezip      price  basement  renovated  \\\n",
       "0          3009 229th Pl NE     98074 405,000.00         1          0   \n",
       "1               1317 5th Ln     98033 837,500.00         0          0   \n",
       "2            556 N 167th St     98133 268,500.00         0          1   \n",
       "3         2803 SW Bataan St     98126 365,000.00         0          0   \n",
       "4  24200-24498 144th Ave SE     98042 330,000.00         0          0   \n",
       "\n",
       "        era_category   lat     lng  \n",
       "0       Early Modern 47.60 -122.04  \n",
       "1       Early Modern 47.70 -122.21  \n",
       "2  Post-World War II 47.76 -122.34  \n",
       "3             Modern 47.62 -122.32  \n",
       "4       Early Modern 47.39 -122.21  "
      ]
     },
     "execution_count": 16,
     "metadata": {},
     "output_type": "execute_result"
    }
   ],
   "source": [
    "train_reformatted.head()"
   ]
  },
  {
   "cell_type": "markdown",
   "metadata": {
    "id": "QlFEv7e-ov3I"
   },
   "source": [
    "## 3.6. Data Transformation"
   ]
  },
  {
   "cell_type": "markdown",
   "metadata": {
    "id": "UldFI0zSov3I"
   },
   "source": [
    "### 3.6.1. Mean Encoding"
   ]
  },
  {
   "cell_type": "code",
   "execution_count": 17,
   "metadata": {
    "id": "_v91eOH4ciSb"
   },
   "outputs": [],
   "source": [
    "era_map = train_reformatted.groupby([\"era_category\"])[\"price\"].mean()"
   ]
  },
  {
   "cell_type": "code",
   "execution_count": 18,
   "metadata": {
    "id": "L5J1ILBdb0fU"
   },
   "outputs": [],
   "source": [
    "train_transformed = mean_encoded(train_reformatted, era_map)\n",
    "test_transformed = mean_encoded(test_reformatted, era_map)"
   ]
  },
  {
   "cell_type": "markdown",
   "metadata": {
    "id": "DMDdjeqPbxPr"
   },
   "source": [
    "### 3.6.2. Log Transformation"
   ]
  },
  {
   "cell_type": "code",
   "execution_count": 19,
   "metadata": {
    "id": "TwcNABIwov3I"
   },
   "outputs": [],
   "source": [
    "train_transformed = log_transform(train_transformed)\n",
    "test_transformed = log_transform(test_transformed)"
   ]
  },
  {
   "cell_type": "code",
   "execution_count": 20,
   "metadata": {},
   "outputs": [],
   "source": [
    "train_processed = pd.concat([train_transformed, train_street_tfidf], axis=1)\n",
    "test_processed = pd.concat([test_transformed, test_street_tfidf], axis=1)"
   ]
  },
  {
   "cell_type": "code",
   "execution_count": 21,
   "metadata": {},
   "outputs": [],
   "source": [
    "save_data(train_processed, \"../data/processed/train_processed.csv\")\n",
    "save_data(test_processed, \"../data/processed/test_processed.csv\")"
   ]
  },
  {
   "cell_type": "code",
   "execution_count": 22,
   "metadata": {
    "id": "ZhP73K9sov3I"
   },
   "outputs": [],
   "source": [
    "X_train = train_processed.drop([\"price\", \"street\"], axis=1)\n",
    "y_train = train_processed[\"price\"]\n",
    "\n",
    "X_test = test_processed.drop([\"price\", \"street\"], axis=1)\n",
    "y_test = test_processed[\"price\"]"
   ]
  },
  {
   "cell_type": "markdown",
   "metadata": {
    "id": "OZD53N6Eov3J"
   },
   "source": [
    "## 3.7. Feature Selection (Wrapper Mthod)"
   ]
  },
  {
   "cell_type": "code",
   "execution_count": 23,
   "metadata": {
    "colab": {
     "base_uri": "https://localhost:8080/"
    },
    "id": "z1Lo7mP9ov3J",
    "outputId": "d3989382-e3e6-4834-fec6-92562a5e132a"
   },
   "outputs": [],
   "source": [
    "# regressor = XGBRegressor(random_state=RANDOM_STATE)\n",
    "\n",
    "# rfe = RFECV(estimator=regressor, cv=10, scoring=\"neg_root_mean_squared_error\").fit(\n",
    "#     X_train_new, y_train\n",
    "# )\n",
    "\n",
    "# print(f\"optimal number of features selected : {rfe.n_features_}\")\n",
    "# print(f\"number of features in : {rfe.n_features_in_}\")\n",
    "# print(f\"the feature ranking : {rfe.ranking_}\")\n",
    "# print(f\"boolean mask of selected features : {rfe.support_}\")\n",
    "# print(f\"selected features name : {rfe.get_feature_names_out()}\")\n",
    "\n",
    "# selected_features = rfe.get_feature_names_out().tolist()"
   ]
  },
  {
   "cell_type": "code",
   "execution_count": 24,
   "metadata": {},
   "outputs": [],
   "source": [
    "selected_features = [\n",
    "    \"bathrooms\",\n",
    "    \"sqft_living\",\n",
    "    \"sqft_lot\",\n",
    "    \"floors\",\n",
    "    \"waterfront\",\n",
    "    \"view\",\n",
    "    \"condition\",\n",
    "    \"sqft_above\",\n",
    "    \"yr_built\",\n",
    "    \"yr_renovated\",\n",
    "    \"statezip\",\n",
    "    \"era_category\",\n",
    "    \"lat\",\n",
    "    \"lng\",\n",
    "    \"10th\",\n",
    "    \"ave\",\n",
    "    \"dr\",\n",
    "    \"nw\",\n",
    "    \"st\",\n",
    "    \"sw\",\n",
    "]"
   ]
  },
  {
   "cell_type": "code",
   "execution_count": 25,
   "metadata": {
    "id": "gDrCRym_ov3J"
   },
   "outputs": [],
   "source": [
    "X_train_selected = X_train[selected_features]\n",
    "X_test_selected = X_test[selected_features]"
   ]
  },
  {
   "cell_type": "code",
   "execution_count": 26,
   "metadata": {
    "id": "8WgSUKQZvTEp"
   },
   "outputs": [],
   "source": [
    "# other feature selection result\n",
    "selected_features_2 = [\n",
    "    \"sqft_living\",\n",
    "    \"sqft_lot\",\n",
    "    \"view\",\n",
    "    \"sqft_basement\",\n",
    "    \"statezip\",\n",
    "    \"lat\",\n",
    "    \"lng\",\n",
    "    \"waterfront\",\n",
    "]\n",
    "X_train_selected_2 = X_train[selected_features_2]\n",
    "X_test_selected_2 = X_test[selected_features_2]"
   ]
  },
  {
   "cell_type": "code",
   "execution_count": null,
   "metadata": {},
   "outputs": [],
   "source": []
  }
 ],
 "metadata": {
  "colab": {
   "collapsed_sections": [
    "y1it7PjZov3J",
    "9QMFO3okov3K",
    "E0r7J77Gov3K",
    "HiO_xmW_ov3M",
    "gW3xDTwAov3M",
    "Zt2cu5ksyd-k"
   ],
   "provenance": [],
   "toc_visible": true
  },
  "kernelspec": {
   "display_name": "house-price-prediction-iAIkOczT",
   "language": "python",
   "name": "python3"
  },
  "language_info": {
   "codemirror_mode": {
    "name": "ipython",
    "version": 3
   },
   "file_extension": ".py",
   "mimetype": "text/x-python",
   "name": "python",
   "nbconvert_exporter": "python",
   "pygments_lexer": "ipython3",
   "version": "3.10.7"
  }
 },
 "nbformat": 4,
 "nbformat_minor": 0
}
